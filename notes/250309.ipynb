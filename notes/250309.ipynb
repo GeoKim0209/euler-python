{
 "cells": [
  {
   "cell_type": "code",
   "execution_count": 16,
   "metadata": {},
   "outputs": [],
   "source": [
    "s = \"\"\"\n",
    "234324\n",
    "235325\n",
    "364436\n",
    "3454754\n",
    "745747\n",
    "54745745\n",
    "746435\n",
    "46457\n",
    "43636436\n",
    "34545745\n",
    "345346\n",
    "45347\n",
    "45636346\n",
    "3467347\n",
    "\"\"\""
   ]
  },
  {
   "cell_type": "code",
   "execution_count": 12,
   "metadata": {},
   "outputs": [],
   "source": [
    "nums = []\n",
    "\n",
    "num = \"\"\n",
    "for c in s:\n",
    "    if c in \"1234567890\":\n",
    "        num += c\n",
    "    elif num:\n",
    "        nums.append(int(num))\n",
    "        num = \"\"\n"
   ]
  },
  {
   "cell_type": "code",
   "execution_count": 23,
   "metadata": {},
   "outputs": [
    {
     "data": {
      "text/plain": [
       "'\\n234324\\n235325\\n364436\\n3454754\\n745747\\n54745745\\n746435\\n46457\\n43636436\\n34545745\\n345346\\n45347\\n45636346\\n3467347\\n'"
      ]
     },
     "execution_count": 23,
     "metadata": {},
     "output_type": "execute_result"
    }
   ],
   "source": [
    "s"
   ]
  },
  {
   "cell_type": "code",
   "execution_count": 29,
   "metadata": {},
   "outputs": [],
   "source": [
    "# z = \"\"\"hello\n",
    "# my\n",
    "# name\n",
    "# is\n",
    "# geo\"\"\"\n",
    "# z.split(\"\\n\")"
   ]
  },
  {
   "cell_type": "code",
   "execution_count": null,
   "metadata": {},
   "outputs": [],
   "source": [
    "s = s\n",
    "result = s.split(\"\\n\")"
   ]
  },
  {
   "cell_type": "code",
   "execution_count": 21,
   "metadata": {},
   "outputs": [
    {
     "data": {
      "text/plain": [
       "['',\n",
       " '234324',\n",
       " '235325',\n",
       " '364436',\n",
       " '3454754',\n",
       " '745747',\n",
       " '54745745',\n",
       " '746435',\n",
       " '46457',\n",
       " '43636436',\n",
       " '34545745',\n",
       " '345346',\n",
       " '45347',\n",
       " '45636346',\n",
       " '3467347',\n",
       " '']"
      ]
     },
     "execution_count": 21,
     "metadata": {},
     "output_type": "execute_result"
    }
   ],
   "source": [
    "result"
   ]
  },
  {
   "cell_type": "code",
   "execution_count": 30,
   "metadata": {},
   "outputs": [],
   "source": [
    "sum_ = 0\n",
    "for i in range(len(result)):\n",
    "    if result[i] == \"\":\n",
    "        continue\n",
    "    sum_ = sum_ + int(result[i])"
   ]
  },
  {
   "cell_type": "code",
   "execution_count": 39,
   "metadata": {},
   "outputs": [],
   "source": [
    "integers = []\n",
    "for item in result:\n",
    "    if item == \"\":\n",
    "        continue\n",
    "    integers.append(int(item))"
   ]
  },
  {
   "cell_type": "code",
   "execution_count": 40,
   "metadata": {},
   "outputs": [
    {
     "data": {
      "text/plain": [
       "[234324,\n",
       " 235325,\n",
       " 364436,\n",
       " 3454754,\n",
       " 745747,\n",
       " 54745745,\n",
       " 746435,\n",
       " 46457,\n",
       " 43636436,\n",
       " 34545745,\n",
       " 345346,\n",
       " 45347,\n",
       " 45636346,\n",
       " 3467347]"
      ]
     },
     "execution_count": 40,
     "metadata": {},
     "output_type": "execute_result"
    }
   ],
   "source": [
    "integers"
   ]
  },
  {
   "cell_type": "code",
   "execution_count": 31,
   "metadata": {},
   "outputs": [
    {
     "data": {
      "text/plain": [
       "188249790"
      ]
     },
     "execution_count": 31,
     "metadata": {},
     "output_type": "execute_result"
    }
   ],
   "source": [
    "sum_"
   ]
  },
  {
   "cell_type": "code",
   "execution_count": 34,
   "metadata": {},
   "outputs": [],
   "source": [
    "dirty_string = \" \\n   \\n   hello     \\n      \""
   ]
  },
  {
   "cell_type": "markdown",
   "metadata": {},
   "source": [
    "---"
   ]
  },
  {
   "cell_type": "markdown",
   "metadata": {},
   "source": [
    "13 -> 40 -> 20 -> 10 -> 5 -> 16 -> 8 -> 4 -> 2 -> 1\n",
    "\n",
    "13: 10\n",
    "40: 9\n",
    "20: 8\n",
    "10: 7\n",
    "5: 6\n",
    "16: 5\n",
    "8: 4\n",
    "4: 3\n",
    "2: 2\n"
   ]
  },
  {
   "cell_type": "markdown",
   "metadata": {},
   "source": [
    "104 -> 52 -> 26 -> 13 -> (아는거...)\n",
    "       12    11    10"
   ]
  },
  {
   "cell_type": "code",
   "execution_count": null,
   "metadata": {},
   "outputs": [],
   "source": [
    "memo = {}\n",
    "\n",
    "# ---\n",
    "\n",
    "memo = {\n",
    "    1: 0\n",
    "    2: 1\n",
    "}\n",
    "\n",
    "# ---"
   ]
  },
  {
   "cell_type": "markdown",
   "metadata": {},
   "source": [
    "---\n",
    "\n",
    "#15"
   ]
  },
  {
   "cell_type": "markdown",
   "metadata": {},
   "source": [
    "$$ \\frac{4!}{2!2!} = 6 $$\n",
    "\n",
    "- R R D D\n",
    "- R D R D\n",
    "- R D D R\n",
    "- D R R D\n",
    "- D R D R\n",
    "- D D R R"
   ]
  },
  {
   "cell_type": "markdown",
   "metadata": {},
   "source": [
    "20 x 20 grid\n",
    "\n",
    "- R R R R R R R R R R R R R R R R R R R R D D D D D D D D D D D D D D D D D D D D\n",
    "\n",
    "example rearrangement\n",
    "- R R R D R D D R R R R R R D R D D D D D D D D R R D R D R D R D D R R D R D R D"
   ]
  },
  {
   "cell_type": "code",
   "execution_count": 42,
   "metadata": {},
   "outputs": [],
   "source": [
    "import random\n",
    "\n",
    "x = list(\"R\" * 20 + \"D\" * 20)\n",
    "random.shuffle(x)\n",
    "\" \".join(x)"
   ]
  },
  {
   "cell_type": "code",
   "execution_count": 45,
   "metadata": {},
   "outputs": [],
   "source": [
    "import itertools"
   ]
  },
  {
   "cell_type": "code",
   "execution_count": 51,
   "metadata": {},
   "outputs": [
    {
     "name": "stdout",
     "output_type": "stream",
     "text": [
      "A B C D  |  A B C c\n",
      "A B D C  |  A B c C\n",
      "A C B D  |  A C B c\n",
      "A C D B  |  A C c B\n",
      "A D B C  |  A c B C\n",
      "A D C B  |  A c C B\n",
      "B A C D  |  B A C c\n",
      "B A D C  |  B A c C\n",
      "B C A D  |  B C A c\n",
      "B C D A  |  B C c A\n",
      "B D A C  |  B c A C\n",
      "B D C A  |  B c C A\n",
      "C A B D  |  C A B c\n",
      "C A D B  |  C A c B\n",
      "C B A D  |  C B A c\n",
      "C B D A  |  C B c A\n",
      "C D A B  |  C c A B\n",
      "C D B A  |  C c B A\n",
      "D A B C  |  c A B C\n",
      "D A C B  |  c A C B\n",
      "D B A C  |  c B A C\n",
      "D B C A  |  c B C A\n",
      "D C A B  |  c C A B\n",
      "D C B A  |  c C B A\n"
     ]
    }
   ],
   "source": [
    "perms = list(itertools.permutations([\"A\", \"B\", \"C\", \"D\"]))\n",
    "for p in perms:\n",
    "    # Create both versions - one with D and one with c\n",
    "    perm_D = \" \".join(p)\n",
    "    perm_c = \" \".join(x if x != \"D\" else \"c\" for x in p)\n",
    "    print(f\"{perm_D}  |  {perm_c}\")\n"
   ]
  },
  {
   "cell_type": "code",
   "execution_count": 55,
   "metadata": {},
   "outputs": [
    {
     "data": {
      "text/plain": [
       "19950631168807583848837421626835850838234968318861924548520089498529438830221946631919961684036194597899331129423209124271556491349413781117593785932096323957855730046793794526765246551266059895520550086918193311542508608460618104685509074866089624888090489894838009253941633257850621568309473902556912388065225096643874441046759871626985453222868538161694315775629640762836880760732228535091641476183956381458969463899410840960536267821064621427333394036525565649530603142680234969400335934316651459297773279665775606172582031407994198179607378245683762280037302885487251900834464581454650557929601414833921615734588139257095379769119277800826957735674444123062018757836325502728323789270710373802866393031428133241401624195671690574061419654342324638801248856147305207431992259611796250130992860241708340807605932320161268492288496255841312844061536738951487114256315111089745514203313820202931640957596464756010405845841566072044962867016515061920631004186422275908670900574606417856951911456055068251250406007519842261898059237118054444788072906395242548339221982707404473162376760846613033778706039803413197133493654622700563169937455508241780972810983291314403571877524768509857276937926433221599399876886660808368837838027643282775172273657572744784112294389733810861607423253291974813120197604178281965697475898164531258434135959862784130128185406283476649088690521047580882615823961985770122407044330583075869039319604603404973156583208672105913300903752823415539745394397715257455290510212310947321610753474825740775273986348298498340756937955646638621874569499279016572103701364433135817214311791398222983845847334440270964182851005072927748364550578634501100852987812389473928699540834346158807043959118985815145779177143619698728131459483783202081474982171858011389071228250905826817436220577475921417653715687725614904582904992461028630081535583308130101987675856234343538955409175623400844887526162643568648833519463720377293240094456246923254350400678027273837755376406726898636241037491410966718557050759098100246789880178271925953381282421954028302759408448955014676668389697996886241636313376393903373455801407636741877711055384225739499110186468219696581651485130494222369947714763069155468217682876200362777257723781365331611196811280792669481887201298643660768551639860534602297871557517947385246369446923087894265948217008051120322365496288169035739121368338393591756418733850510970271613915439590991598154654417336311656936031122249937969999226781732358023111862644575299135758175008199839236284615249881088960232244362173771618086357015468484058622329792853875623486556440536962622018963571028812361567512543338303270029097668650568557157505516727518899194129711337690149916181315171544007728650573189557450920330185304847113818315407324053319038462084036421763703911550639789000742853672196280903477974533320468368795868580237952218629120080742819551317948157624448298518461509704888027274721574688131594750409732115080498190455803416826949787141316063210686391511681774304792596709376"
      ]
     },
     "execution_count": 55,
     "metadata": {},
     "output_type": "execute_result"
    }
   ],
   "source": []
  },
  {
   "cell_type": "markdown",
   "metadata": {},
   "source": []
  }
 ],
 "metadata": {
  "kernelspec": {
   "display_name": ".venv",
   "language": "python",
   "name": "python3"
  },
  "language_info": {
   "codemirror_mode": {
    "name": "ipython",
    "version": 3
   },
   "file_extension": ".py",
   "mimetype": "text/x-python",
   "name": "python",
   "nbconvert_exporter": "python",
   "pygments_lexer": "ipython3",
   "version": "3.12.5"
  }
 },
 "nbformat": 4,
 "nbformat_minor": 2
}
